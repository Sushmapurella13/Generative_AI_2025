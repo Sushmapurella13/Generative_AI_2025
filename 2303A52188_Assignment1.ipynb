{
  "nbformat": 4,
  "nbformat_minor": 0,
  "metadata": {
    "colab": {
      "provenance": [],
      "authorship_tag": "ABX9TyPUqcF95k9YsTweoE+i9LRl",
      "include_colab_link": true
    },
    "kernelspec": {
      "name": "python3",
      "display_name": "Python 3"
    },
    "language_info": {
      "name": "python"
    }
  },
  "cells": [
    {
      "cell_type": "markdown",
      "metadata": {
        "id": "view-in-github",
        "colab_type": "text"
      },
      "source": [
        "<a href=\"https://colab.research.google.com/github/Sushmapurella13/Generative_AI_2025/blob/main/2303A52188_Assignment1.ipynb\" target=\"_parent\"><img src=\"https://colab.research.google.com/assets/colab-badge.svg\" alt=\"Open In Colab\"/></a>"
      ]
    },
    {
      "cell_type": "code",
      "execution_count": null,
      "metadata": {
        "colab": {
          "base_uri": "https://localhost:8080/"
        },
        "id": "0i8eCETYQFoQ",
        "outputId": "1d98ff2e-ffb0-46ca-b21b-b920a1cad1df"
      },
      "outputs": [
        {
          "output_type": "stream",
          "name": "stdout",
          "text": [
            "0.24600000000000147\n",
            "0.4600000000000016\n",
            "0.49598387070549127\n"
          ]
        }
      ],
      "source": [
        "import numpy as np\n",
        "Y_actual=np.array([20,30,40,50,60])\n",
        "Y_predict=np.array([20.5,30.3,40.2,50.6,60.7])\n",
        "MSE = np.mean((Y_actual - Y_predict)**2)\n",
        "MAE = np.mean(np.abs(Y_actual - Y_predict))\n",
        "RMSE = np.sqrt(MSE)\n",
        "print(MSE)\n",
        "print(MAE)\n",
        "print(RMSE)\n"
      ]
    },
    {
      "cell_type": "code",
      "source": [
        "from sklearn.metrics import mean_squared_error, mean_absolute_error,root_mean_squared_error\n",
        "MSE_sklearn = mean_squared_error(Y_actual, Y_predict)\n",
        "MAE_sklearn = mean_absolute_error(Y_actual, Y_predict)\n",
        "RMSE_sklearn = np.sqrt(MSE_sklearn)\n",
        "\n",
        "print(\"\\nUsing scikit-learn:\")\n",
        "print(f\"MSE: {MSE_sklearn}\")\n",
        "print(f\"MAE: {MAE_sklearn}\")\n",
        "print(f\"RMSE: {RMSE_sklearn}\")"
      ],
      "metadata": {
        "colab": {
          "base_uri": "https://localhost:8080/"
        },
        "id": "22fWuxEdR-3y",
        "outputId": "bebe0dfa-8c0b-40d5-f7d4-87ce9cbc06bf"
      },
      "execution_count": null,
      "outputs": [
        {
          "output_type": "stream",
          "name": "stdout",
          "text": [
            "\n",
            "Using scikit-learn:\n",
            "MSE: 0.24600000000000147\n",
            "MAE: 0.4600000000000016\n",
            "RMSE: 0.49598387070549127\n"
          ]
        }
      ]
    }
  ]
}