{
  "nbformat": 4,
  "nbformat_minor": 0,
  "metadata": {
    "colab": {
      "provenance": [],
      "authorship_tag": "ABX9TyNb2gPINPGjIuVJ4CtNXHz+",
      "include_colab_link": true
    },
    "kernelspec": {
      "name": "python3",
      "display_name": "Python 3"
    },
    "language_info": {
      "name": "python"
    }
  },
  "cells": [
    {
      "cell_type": "markdown",
      "metadata": {
        "id": "view-in-github",
        "colab_type": "text"
      },
      "source": [
        "<a href=\"https://colab.research.google.com/github/Sushmapurella13/Generative_AI_2025/blob/main/2303A52188_week4_Assignment4.ipynb\" target=\"_parent\"><img src=\"https://colab.research.google.com/assets/colab-badge.svg\" alt=\"Open In Colab\"/></a>"
      ]
    },
    {
      "cell_type": "code",
      "execution_count": 1,
      "metadata": {
        "colab": {
          "base_uri": "https://localhost:8080/"
        },
        "id": "5vZNk8RdXCBL",
        "outputId": "98b4cde9-5703-4cf5-96c3-9f21ad996993"
      },
      "outputs": [
        {
          "output_type": "stream",
          "name": "stdout",
          "text": [
            "Training MSE: 0.0003861428874625317\n",
            "Test MSE: 0.001381172305224406\n",
            "Enter x1: 0.67\n",
            "Enter x2: 0.78\n",
            "Enter x3: 0.45\n",
            "Predicted output: [0.32902097]\n"
          ]
        }
      ],
      "source": [
        "import numpy as np\n",
        "X_train = np.array([[0.1, 0.2, 0.3], [0.2, 0.3, 0.4], [0.3, 0.4, 0.5], [0.5, 0.6, 0.7],\n",
        "                    [0.1, 0.3, 0.5], [0.2, 0.4, 0.6], [0.3, 0.5, 0.7], [0.4, 0.6, 0.8],\n",
        "                    [0.5, 0.7, 0.1]])\n",
        "y_train = np.array([0.14, 0.2, 0.26, 0.38, 0.22, 0.28, 0.34, 0.4, 0.22])\n",
        "X_test = np.array([[0.6, 0.7, 0.8], [0.7, 0.8, 0.9]])\n",
        "y_test = np.array([0.44, 0.5])\n",
        "w = np.random.randn(3)\n",
        "b = np.random.randn(1)\n",
        "\n",
        "\n",
        "learning_rate = 0.01\n",
        "iterations = 10000\n",
        "\n",
        "def predict(X, w, b):\n",
        "    return np.dot(X, w) + b\n",
        "\n",
        "def mean_squared_error(y_true, y_pred):\n",
        "    return np.mean((y_true - y_pred) ** 2)\n",
        "\n",
        "for _ in range(iterations):\n",
        "    y_pred = predict(X_train, w, b)\n",
        "    error = y_pred - y_train\n",
        "    grad_w = (2 / X_train.shape[0]) * np.dot(X_train.T, error)\n",
        "    grad_b = (2 / X_train.shape[0]) * np.sum(error)\n",
        "\n",
        "    w -= learning_rate * grad_w\n",
        "    b -= learning_rate * grad_b\n",
        "\n",
        "y_train_pred = predict(X_train, w, b)\n",
        "y_test_pred = predict(X_test, w, b)\n",
        "\n",
        "train_mse = mean_squared_error(y_train, y_train_pred)\n",
        "test_mse = mean_squared_error(y_test, y_test_pred)\n",
        "\n",
        "print(\"Training MSE:\", train_mse)\n",
        "print(\"Test MSE:\", test_mse)\n",
        "\n",
        "def predict_new_data():\n",
        "    x1 = float(input(\"Enter x1: \"))\n",
        "    x2 = float(input(\"Enter x2: \"))\n",
        "    x3 = float(input(\"Enter x3: \"))\n",
        "    new_data = np.array([x1, x2, x3]).reshape(1, -1)\n",
        "    prediction = predict(new_data, w, b)\n",
        "    print(\"Predicted output:\", prediction)\n",
        "predict_new_data()\n"
      ]
    },
    {
      "cell_type": "code",
      "source": [
        "import numpy as np\n",
        "X_train = np.array([[0.1, 0.2, 0.3], [0.2, 0.3, 0.4], [0.3, 0.4, 0.5], [0.5, 0.6, 0.7],\n",
        "                    [0.1, 0.3, 0.5], [0.2, 0.4, 0.6], [0.3, 0.5, 0.7], [0.4, 0.6, 0.8],\n",
        "                    [0.5, 0.7, 0.1]])\n",
        "y_train = np.array([0.5349, 0.498, 0.546, 0.5939, 0.5548, 0.5695, 0.5842, 0.5987, 0.5548])\n",
        "X_test = np.array([[0.6, 0.7, 0.8], [0.7, 0.8, 0.9]])\n",
        "y_test = np.array([0.6083, 0.6225])\n",
        "\n",
        "w = np.random.randn(3)\n",
        "b = np.random.randn(1)\n",
        "\n",
        "learning_rate = 0.1\n",
        "iterations = 10000\n",
        "\n",
        "def sigmoid(x):\n",
        "    return 1 / (1 + np.exp(-x))\n",
        "def sigmoid_derivative(x):\n",
        "    return x * (1 - x)\n",
        "def mean_squared_error(y_true, y_pred):\n",
        "    return np.mean((y_true - y_pred) ** 2)\n",
        "for _ in range(iterations):\n",
        "    y_pred = sigmoid(np.dot(X_train, w) + b)\n",
        "    error = y_pred - y_train\n",
        "    grad_w = (2 / X_train.shape[0]) * np.dot(X_train.T, error * sigmoid_derivative(y_pred))\n",
        "    grad_b = (2 / X_train.shape[0]) * np.sum(error * sigmoid_derivative(y_pred))\n",
        "    w -= learning_rate * grad_w\n",
        "    b -= learning_rate * grad_b\n",
        "\n",
        "y_train_pred = sigmoid(np.dot(X_train, w) + b)\n",
        "y_test_pred = sigmoid(np.dot(X_test, w) + b)\n",
        "\n",
        "train_mse = mean_squared_error(y_train, y_train_pred)\n",
        "test_mse = mean_squared_error(y_test, y_test_pred)\n",
        "\n",
        "print(\"Training MSE:\", train_mse)\n",
        "print(\"Test MSE:\", test_mse)\n",
        "def predict_new_data():\n",
        "    x1 = float(input(\"Enter x1: \"))\n",
        "    x2 = float(input(\"Enter x2: \"))\n",
        "    x3 = float(input(\"Enter x3: \"))\n",
        "    new_data = np.array([x1, x2, x3]).reshape(1, -1)\n",
        "    prediction = sigmoid(np.dot(new_data, w) + b)\n",
        "    print(\"Predicted output:\", prediction)\n",
        "predict_new_data()\n"
      ],
      "metadata": {
        "colab": {
          "base_uri": "https://localhost:8080/"
        },
        "id": "wD2pe9YFXkVt",
        "outputId": "bb2ec28e-b5b3-479f-d8ba-54ad0ba4840f"
      },
      "execution_count": 3,
      "outputs": [
        {
          "output_type": "stream",
          "name": "stdout",
          "text": [
            "Training MSE: 0.00037564639194528416\n",
            "Test MSE: 0.0002309029771998875\n",
            "Enter x1: 0.67\n",
            "Enter x2: 0.78\n",
            "Enter x3: 0.45\n",
            "Predicted output: [0.59892]\n"
          ]
        }
      ]
    }
  ]
}