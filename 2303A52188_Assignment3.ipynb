{
  "nbformat": 4,
  "nbformat_minor": 0,
  "metadata": {
    "colab": {
      "provenance": [],
      "authorship_tag": "ABX9TyPQOeMii0twmV5qyg9oR5IS",
      "include_colab_link": true
    },
    "kernelspec": {
      "name": "python3",
      "display_name": "Python 3"
    },
    "language_info": {
      "name": "python"
    }
  },
  "cells": [
    {
      "cell_type": "markdown",
      "metadata": {
        "id": "view-in-github",
        "colab_type": "text"
      },
      "source": [
        "<a href=\"https://colab.research.google.com/github/Sushmapurella13/Generative_AI_2025/blob/main/2303A52188_Assignment3.ipynb\" target=\"_parent\"><img src=\"https://colab.research.google.com/assets/colab-badge.svg\" alt=\"Open In Colab\"/></a>"
      ]
    },
    {
      "cell_type": "code",
      "source": [
        "def gradient_descent(learning_rate, tolerance, max_iterations):\n",
        "    def derivative(x):\n",
        "        return 20 * x**3 + 6 * x\n",
        "    x = 1.0\n",
        "    iterations = 0\n",
        "\n",
        "    while iterations < max_iterations:\n",
        "        grad = derivative(x)\n",
        "        new_x = x - learning_rate * grad\n",
        "        if abs(new_x - x) < tolerance:\n",
        "            break\n",
        "        x = new_x\n",
        "        iterations += 1\n",
        "\n",
        "    return x, iterations\n",
        "learning_rate = 0.01\n",
        "tolerance = 1e-6\n",
        "max_iterations = 10000\n",
        "min_x, num_iterations = gradient_descent(learning_rate, tolerance, max_iterations)\n",
        "print(f\"Minimum value of x: {min_x}\")\n",
        "print(f\"Number of iterations: {num_iterations}\")\n"
      ],
      "metadata": {
        "colab": {
          "base_uri": "https://localhost:8080/"
        },
        "id": "vU-gWv6L_k7m",
        "outputId": "7ed3bba3-563f-45d2-f938-03dae2b009f8"
      },
      "execution_count": 3,
      "outputs": [
        {
          "output_type": "stream",
          "name": "stdout",
          "text": [
            "Minimum value of x: 1.63586104206045e-05\n",
            "Number of iterations: 165\n"
          ]
        }
      ]
    },
    {
      "cell_type": "code",
      "source": [
        "learning_rate = 0.01\n",
        "tolerance = 1e-6\n",
        "max_iterations = 10000\n",
        "\n",
        "x, y = 1.0, 1.0\n",
        "iterations = 0\n",
        "\n",
        "while iterations < max_iterations:\n",
        "    grad_x = 6 * x\n",
        "    grad_y = 10 * y\n",
        "    new_x = x - learning_rate * grad_x\n",
        "    new_y = y - learning_rate * grad_y\n",
        "    if abs(new_x - x) < tolerance and abs(new_y - y) < tolerance:\n",
        "        break\n",
        "    x, y = new_x, new_y\n",
        "    iterations += 1\n",
        "print(f\"Minimum value of x: {x}\")\n",
        "print(f\"Minimum value of y: {y}\")\n",
        "print(f\"Number of iterations: {iterations}\")\n"
      ],
      "metadata": {
        "colab": {
          "base_uri": "https://localhost:8080/"
        },
        "id": "jWXOqlzhDlsF",
        "outputId": "943c075f-7a2e-47cc-97d8-1fdfeb667d19"
      },
      "execution_count": 4,
      "outputs": [
        {
          "output_type": "stream",
          "name": "stdout",
          "text": [
            "Minimum value of x: 1.6472440243460367e-05\n",
            "Minimum value of y: 7.164183154692669e-09\n",
            "Number of iterations: 178\n"
          ]
        }
      ]
    },
    {
      "cell_type": "code",
      "source": [
        "import math\n",
        "def sigmoid(x):\n",
        "    return 1 / (1 + math.exp(-x))\n",
        "def sigmoid_derivative(x):\n",
        "    z = sigmoid(x)\n",
        "    return z * (1 - z)\n",
        "def gradient_descent(learning_rate, tolerance, max_iterations):\n",
        "    x = 1.0\n",
        "    iterations = 0\n",
        "\n",
        "    while iterations < max_iterations:\n",
        "        grad = sigmoid_derivative(x)\n",
        "        new_x = x - learning_rate * grad\n",
        "        if abs(new_x - x) < tolerance:\n",
        "            break\n",
        "\n",
        "        x = new_x\n",
        "        iterations += 1\n",
        "\n",
        "    return x, iterations\n",
        "learning_rate = 0.01\n",
        "tolerance = 1e-6\n",
        "max_iterations = 10000\n",
        "min_x, num_iterations = gradient_descent(learning_rate, tolerance, max_iterations)\n",
        "print(f\"Value of x: {min_x}\")\n",
        "print(f\"Number of iterations: {num_iterations}\")\n"
      ],
      "metadata": {
        "colab": {
          "base_uri": "https://localhost:8080/"
        },
        "id": "kXaKhpy_G3Lw",
        "outputId": "16f48f1b-a9e0-4ba3-c25d-652e6f4e4968"
      },
      "execution_count": 5,
      "outputs": [
        {
          "output_type": "stream",
          "name": "stdout",
          "text": [
            "Value of x: -4.463023229336288\n",
            "Number of iterations: 10000\n"
          ]
        }
      ]
    },
    {
      "cell_type": "code",
      "source": [
        "learning_rate = 0.01\n",
        "tolerance = 1e-6\n",
        "max_iterations = 10000\n",
        "\n",
        "input_value = 2.0\n",
        "expected_output = 0.5\n",
        "\n",
        "M = 0.0\n",
        "C = 0.0\n",
        "iterations = 0\n",
        "\n",
        "while iterations < max_iterations:\n",
        "    output = M * input_value + C\n",
        "    error = (expected_output - output) ** 2\n",
        "    grad_M = -2 * (expected_output - output) * input_value\n",
        "    grad_C = -2 * (expected_output - output)\n",
        "    new_M = M - learning_rate * grad_M\n",
        "    new_C = C - learning_rate * grad_C\n",
        "    if abs(new_M - M) < tolerance and abs(new_C - C) < tolerance:\n",
        "        break\n",
        "    M, C = new_M, new_C\n",
        "    iterations += 1\n",
        "print(f\"Optimal value of M: {M}\")\n",
        "print(f\"Optimal value of C: {C}\")\n",
        "print(f\"Number of iterations: {iterations}\")\n",
        "\n"
      ],
      "metadata": {
        "colab": {
          "base_uri": "https://localhost:8080/"
        },
        "id": "pdklGTiRHRKT",
        "outputId": "c9a910ff-99f3-4c13-acf7-d7af231215e2"
      },
      "execution_count": 6,
      "outputs": [
        {
          "output_type": "stream",
          "name": "stdout",
          "text": [
            "Optimal value of M: 0.1999900040083894\n",
            "Optimal value of C: 0.0999950020041947\n",
            "Number of iterations: 94\n"
          ]
        }
      ]
    }
  ]
}